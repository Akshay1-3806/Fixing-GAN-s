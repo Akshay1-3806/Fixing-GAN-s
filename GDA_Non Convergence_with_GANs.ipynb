{
 "cells": [
  {
   "cell_type": "code",
   "execution_count": null,
   "metadata": {},
   "outputs": [],
   "source": [
    "from autograd import grad         # pip install autograd              \n",
    "import autograd.numpy as np\n",
    "\n",
    "x = np.array([1.5]) \n",
    "y = np.array([0.5])\n",
    "lr = 0.02\n",
    "\n",
    "def loss_function(x,y,equation):\n",
    "    if equation==0:\n",
    "        z=(-3*x*x)-(y*y)+(4*x*y)  # Minimax point at (0,0)\n",
    "    if equation==1:\n",
    "        z= (3*x*x)+(y*y)+(4*x*y)  # Minimax point not (0,0)\n",
    "    if equation==2:\n",
    "        z= (4*x*x-((y-3*x+0.05*x*x*x)*(y-3*x+0.05*x*x*x))\n",
    "            -0.1*y*y*y*y)*(np.exp((-0.01)*((x*x)+(y*y)))) # Minimax point at (0,0)\n",
    "    return z \n",
    "\n",
    "equation = 2\n",
    "\n",
    "for c in range(300):\n",
    "    z_x = grad(loss_function,0)\n",
    "    z_y = grad(loss_function,1)\n",
    "    grad_x = z_x(x,y,equation)\n",
    "    grad_y = z_y(x,y,equation)\n",
    "\n",
    "    x = x-(lr*(grad_x))\n",
    "    y = y+(lr*(grad_y))\n",
    "    z = loss_function(x,y,equation)\n",
    "    print(z,x,y)"
   ]
  }
 ],
 "metadata": {
  "kernelspec": {
   "display_name": "Python 3",
   "language": "python",
   "name": "python3"
  },
  "language_info": {
   "codemirror_mode": {
    "name": "ipython",
    "version": 3
   },
   "file_extension": ".py",
   "mimetype": "text/x-python",
   "name": "python",
   "nbconvert_exporter": "python",
   "pygments_lexer": "ipython3",
   "version": "3.8.3"
  }
 },
 "nbformat": 4,
 "nbformat_minor": 4
}
